{
 "cells": [
  {
   "cell_type": "code",
   "execution_count": null,
   "id": "48d8f63d",
   "metadata": {},
   "outputs": [],
   "source": [
    "notebook folder"
   ]
  },
  {
   "cell_type": "markdown",
   "id": "4d5861f0",
   "metadata": {},
   "source": []
  }
 ],
 "metadata": {
  "kernelspec": {
   "display_name": "learn-env",
   "language": "python",
   "name": "python3"
  },
  "language_info": {
   "name": "python",
   "version": "3.8.5"
  }
 },
 "nbformat": 4,
 "nbformat_minor": 5
}

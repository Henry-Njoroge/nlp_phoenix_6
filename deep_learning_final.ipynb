{
 "cells": [
  {
   "cell_type": "code",
   "execution_count": 1,
   "metadata": {},
   "outputs": [
    {
     "name": "stdout",
     "output_type": "stream",
     "text": [
      "WARNING:tensorflow:From C:\\Users\\User\\anaconda3\\envs\\tf-env\\lib\\site-packages\\keras\\src\\losses.py:2976: The name tf.losses.sparse_softmax_cross_entropy is deprecated. Please use tf.compat.v1.losses.sparse_softmax_cross_entropy instead.\n",
      "\n"
     ]
    }
   ],
   "source": [
    "import pandas as pd \n",
    "import numpy as np\n",
    "import seaborn as sns \n",
    "from numpy import zeros, asarray\n",
    " \n",
    "#import libraries\n",
    "import tensorflow as tf\n",
    "from tensorflow.keras.models import Sequential\n",
    "from tensorflow.keras.layers import Dense, Dropout, Embedding, Flatten, SimpleRNN\n",
    "from tensorflow.keras.callbacks import EarlyStopping\n",
    "from keras.preprocessing.text import Tokenizer\n",
    "from keras.preprocessing.sequence import pad_sequences\n",
    "# \n",
    "from tensorflow.keras.layers import LSTM, Bidirectional\n",
    "\n",
    "# metrics\n",
    "from sklearn.metrics import accuracy_score, confusion_matrix, ConfusionMatrixDisplay, silhouette_score,classification_report, roc_curve,roc_auc_score, auc\n",
    "\n",
    "# \n",
    "from imblearn.over_sampling import RandomOverSampler\n",
    "\n",
    "from sklearn.model_selection import train_test_split"
   ]
  },
  {
   "cell_type": "code",
   "execution_count": 5,
   "metadata": {},
   "outputs": [
    {
     "data": {
      "text/html": [
       "<div>\n",
       "<style scoped>\n",
       "    .dataframe tbody tr th:only-of-type {\n",
       "        vertical-align: middle;\n",
       "    }\n",
       "\n",
       "    .dataframe tbody tr th {\n",
       "        vertical-align: top;\n",
       "    }\n",
       "\n",
       "    .dataframe thead th {\n",
       "        text-align: right;\n",
       "    }\n",
       "</style>\n",
       "<table border=\"1\" class=\"dataframe\">\n",
       "  <thead>\n",
       "    <tr style=\"text-align: right;\">\n",
       "      <th></th>\n",
       "      <th>clean_tweet</th>\n",
       "      <th>product_updated</th>\n",
       "      <th>clean_sentiment</th>\n",
       "    </tr>\n",
       "  </thead>\n",
       "  <tbody>\n",
       "    <tr>\n",
       "      <th>1558</th>\n",
       "      <td>heck wbeing sick apple supposedly set ministor...</td>\n",
       "      <td>apple</td>\n",
       "      <td>2</td>\n",
       "    </tr>\n",
       "    <tr>\n",
       "      <th>3231</th>\n",
       "      <td>wonder apple set makeshift shop sell ipads tom...</td>\n",
       "      <td>app</td>\n",
       "      <td>2</td>\n",
       "    </tr>\n",
       "    <tr>\n",
       "      <th>3239</th>\n",
       "      <td>wonder theres anyone who snag ipad supposedly ...</td>\n",
       "      <td>app</td>\n",
       "      <td>1</td>\n",
       "    </tr>\n",
       "    <tr>\n",
       "      <th>776</th>\n",
       "      <td>pat dont know im talk please google julia swee...</td>\n",
       "      <td>google</td>\n",
       "      <td>2</td>\n",
       "    </tr>\n",
       "    <tr>\n",
       "      <th>7501</th>\n",
       "      <td>apple put store downtown austin ipad tablet ap...</td>\n",
       "      <td>app</td>\n",
       "      <td>1</td>\n",
       "    </tr>\n",
       "    <tr>\n",
       "      <th>79</th>\n",
       "      <td>xmas rt shiny new apps new book popup ipad sto...</td>\n",
       "      <td>app</td>\n",
       "      <td>1</td>\n",
       "    </tr>\n",
       "    <tr>\n",
       "      <th>7966</th>\n",
       "      <td>still see two nonipad tablet thousand ipads</td>\n",
       "      <td>ipad</td>\n",
       "      <td>2</td>\n",
       "    </tr>\n",
       "    <tr>\n",
       "      <th>5495</th>\n",
       "      <td>arrive iphone break time lamesauce cc</td>\n",
       "      <td>iphone</td>\n",
       "      <td>1</td>\n",
       "    </tr>\n",
       "    <tr>\n",
       "      <th>5773</th>\n",
       "      <td>rt rt go find amp could win tech prize ipad am...</td>\n",
       "      <td>ipad</td>\n",
       "      <td>2</td>\n",
       "    </tr>\n",
       "    <tr>\n",
       "      <th>1279</th>\n",
       "      <td>mindtouchers give ipad demo mindtouch tcs twee...</td>\n",
       "      <td>ipad</td>\n",
       "      <td>2</td>\n",
       "    </tr>\n",
       "  </tbody>\n",
       "</table>\n",
       "</div>"
      ],
      "text/plain": [
       "                                            clean_tweet product_updated  \\\n",
       "1558  heck wbeing sick apple supposedly set ministor...           apple   \n",
       "3231  wonder apple set makeshift shop sell ipads tom...             app   \n",
       "3239  wonder theres anyone who snag ipad supposedly ...             app   \n",
       "776   pat dont know im talk please google julia swee...          google   \n",
       "7501  apple put store downtown austin ipad tablet ap...             app   \n",
       "79    xmas rt shiny new apps new book popup ipad sto...             app   \n",
       "7966        still see two nonipad tablet thousand ipads            ipad   \n",
       "5495              arrive iphone break time lamesauce cc          iphone   \n",
       "5773  rt rt go find amp could win tech prize ipad am...            ipad   \n",
       "1279  mindtouchers give ipad demo mindtouch tcs twee...            ipad   \n",
       "\n",
       "      clean_sentiment  \n",
       "1558                2  \n",
       "3231                2  \n",
       "3239                1  \n",
       "776                 2  \n",
       "7501                1  \n",
       "79                  1  \n",
       "7966                2  \n",
       "5495                1  \n",
       "5773                2  \n",
       "1279                2  "
      ]
     },
     "execution_count": 5,
     "metadata": {},
     "output_type": "execute_result"
    }
   ],
   "source": [
    "# loading the dataset\n",
    "df= pd.read_csv(\"data/cleaned_twitter_dataset.csv\")\n",
    "df.sample(10)"
   ]
  },
  {
   "cell_type": "code",
   "execution_count": 6,
   "metadata": {},
   "outputs": [],
   "source": [
    "# seperate feature and target variables\n",
    "X= df[\"clean_tweet\"]\n",
    "y= df[\"clean_sentiment\"]"
   ]
  },
  {
   "cell_type": "code",
   "execution_count": 7,
   "metadata": {},
   "outputs": [
    {
     "name": "stdout",
     "output_type": "stream",
     "text": [
      "(6440,) (1610,) (6440,) (1610,)\n"
     ]
    }
   ],
   "source": [
    "# split data into train and test \n",
    "X_train, X_test, y_train, y_test= train_test_split(X, y, test_size= 0.2, random_state= 42, stratify= y)\n",
    "\n",
    "# print the shape\n",
    "print(X_train.shape, X_test.shape, y_train.shape, y_test.shape)"
   ]
  },
  {
   "cell_type": "code",
   "execution_count": 8,
   "metadata": {},
   "outputs": [
    {
     "name": "stdout",
     "output_type": "stream",
     "text": [
      "[ 9. 12. 13. 14.]\n",
      "\n",
      "Vocabulary lenght: 7574\n"
     ]
    }
   ],
   "source": [
    "# Tokenize the tweet data\n",
    "tokenizer = Tokenizer(num_words=4000)\n",
    "tokenizer.fit_on_texts(X_train)\n",
    "\n",
    "# features\n",
    "X_train_seq = tokenizer.texts_to_sequences(X_train)\n",
    "X_test_seq = tokenizer.texts_to_sequences(X_test)\n",
    "\n",
    "\n",
    "# sequence\n",
    "sequences = tokenizer.texts_to_sequences(X_train)\n",
    "\n",
    "# before doing padding, we need to identify the max_length of the tweet\n",
    "lengths = [len(s) for s in sequences]\n",
    "print(np.percentile(lengths, [50, 75, 90, 95]))\n",
    "\n",
    "# vocabulary length\n",
    "# adding 1 to store dimensions for words which no pretrained word embedding\n",
    "vocab_length = len(tokenizer.word_index)+1\n",
    "print(\"\\nVocabulary lenght:\", vocab_length)"
   ]
  },
  {
   "cell_type": "markdown",
   "metadata": {},
   "source": [
    "***\n",
    "    the distribution of the tweet shows that the max_length is 16. We will therefore set the max_length = 20, to be safe."
   ]
  },
  {
   "cell_type": "code",
   "execution_count": 9,
   "metadata": {},
   "outputs": [],
   "source": [
    "# Pad the sequences\n",
    "# add zeros after the actual tokens.\n",
    "max_length = 20\n",
    "X_train_pad = pad_sequences(X_train_seq, maxlen=max_length, padding='post')\n",
    "X_test_pad = pad_sequences(X_test_seq, maxlen=max_length, padding='post')"
   ]
  },
  {
   "cell_type": "code",
   "execution_count": 10,
   "metadata": {},
   "outputs": [
    {
     "name": "stdout",
     "output_type": "stream",
     "text": [
      "x_train_rnn shape: (6440, 20, 1)\n",
      "x_test_rnn shape: (1610, 20, 1)\n"
     ]
    }
   ],
   "source": [
    "# reshaping\n",
    "num_samples = X_train_pad.shape[0]\n",
    "num_features = X_train_pad.shape[1]\n",
    "\n",
    "# Reshape to (num_samples, num_time_steps, num_features)\n",
    "# Assuming num_time_steps = num_features for simplicity\n",
    "num_time_steps = num_features\n",
    "x_train_rnn = X_train_pad.reshape((num_samples, num_time_steps, 1))\n",
    "x_test_rnn = X_test_pad.reshape((X_test_pad.shape[0], num_time_steps, 1))\n",
    "\n",
    "# Verify the new shape\n",
    "print(\"x_train_rnn shape:\", x_train_rnn.shape)\n",
    "print(\"x_test_rnn shape:\", x_test_rnn.shape)"
   ]
  },
  {
   "cell_type": "code",
   "execution_count": 11,
   "metadata": {},
   "outputs": [
    {
     "name": "stdout",
     "output_type": "stream",
     "text": [
      "Original shape of x_train_rnn: (6440, 20, 1)\n",
      "Shape of x_train_rnn_resampled after resampling: (11082, 20, 1)\n",
      "Shape of y_train_resampled after resampling: (11082,)\n"
     ]
    }
   ],
   "source": [
    "# correcting the class imbalance\n",
    "# Initialize the RandomOverSampler\n",
    "ros = RandomOverSampler(random_state=42)\n",
    "\n",
    "# Reshape the data to 2D for resampling (flattening only the sequence dimension)\n",
    "num_samples, num_time_steps, num_features = x_train_rnn.shape\n",
    "x_train_rnn_reshaped = x_train_rnn.reshape(num_samples, -1)\n",
    "\n",
    "# Apply the oversampling\n",
    "x_train_rnn_resampled, y_train_resampled = ros.fit_resample(x_train_rnn_reshaped, y_train)\n",
    "\n",
    "# Reshape the data back to the original 3D format\n",
    "x_train_rnn_resampled = x_train_rnn_resampled.reshape(-1, num_time_steps, num_features)\n",
    "\n",
    "# Verify the shapes\n",
    "print(\"Original shape of x_train_rnn:\", x_train_rnn.shape)\n",
    "print(\"Shape of x_train_rnn_resampled after resampling:\", x_train_rnn_resampled.shape)\n",
    "print(\"Shape of y_train_resampled after resampling:\", y_train_resampled.shape)"
   ]
  },
  {
   "cell_type": "code",
   "execution_count": 12,
   "metadata": {},
   "outputs": [
    {
     "name": "stdout",
     "output_type": "stream",
     "text": [
      "GloVe 100d file is ready!\n"
     ]
    }
   ],
   "source": [
    "# glove\n",
    "import os\n",
    "import requests\n",
    "import zipfile\n",
    "\n",
    "# Download GloVe embeddings if not already available\n",
    "if not os.path.exists(\"glove.6B.100d.txt\"):\n",
    "    url = \"http://nlp.stanford.edu/data/glove.6B.zip\"\n",
    "    r = requests.get(url)\n",
    "    with open(\"glove.6B.zip\", \"wb\") as f:\n",
    "        f.write(r.content)\n",
    "\n",
    "    # Unzip only 100d file\n",
    "    with zipfile.ZipFile(\"glove.6B.zip\", \"r\") as zip_ref:\n",
    "        zip_ref.extract(\"glove.6B.100d.txt\")\n",
    "\n",
    "print(\"GloVe 100d file is ready!\")"
   ]
  },
  {
   "cell_type": "code",
   "execution_count": 13,
   "metadata": {},
   "outputs": [
    {
     "name": "stdout",
     "output_type": "stream",
     "text": [
      "Loaded word vectors: 400000\n"
     ]
    }
   ],
   "source": [
    "# Load GloVe embeddings (100d). Ensure you have 'glove.6B.100d.txt' downloaded in the same folder.\n",
    "embeddings_index = {}\n",
    "with open(\"glove.6B.100d.txt\", encoding=\"utf8\") as f:\n",
    "    for line in f:\n",
    "        values = line.split()\n",
    "        word = values[0]\n",
    "        vector = np.asarray(values[1:], dtype=\"float32\")\n",
    "        embeddings_index[word] = vector\n",
    "\n",
    "print(\"Loaded word vectors:\", len(embeddings_index))"
   ]
  },
  {
   "cell_type": "code",
   "execution_count": 14,
   "metadata": {},
   "outputs": [
    {
     "name": "stdout",
     "output_type": "stream",
     "text": [
      "Embedding matrix shape: (7574, 100)\n"
     ]
    }
   ],
   "source": [
    "# Create Embedding Matrix \n",
    "# Containing 100-dimensional GloVe word embeddings for 4000 words in our corpus.\n",
    "\n",
    "embedding_matrix = zeros((vocab_length, 100))\n",
    "for word, index in tokenizer.word_index.items():\n",
    "    embedding_vector = embeddings_index.get(word)\n",
    "    if embedding_vector is not None:\n",
    "        embedding_matrix[index] = embedding_vector\n",
    "        \n",
    "# Print the shape of the embedding matrix\n",
    "print(\"Embedding matrix shape:\", embedding_matrix.shape)"
   ]
  },
  {
   "cell_type": "markdown",
   "metadata": {},
   "source": [
    "## Simple Neural Network"
   ]
  },
  {
   "cell_type": "code",
   "execution_count": 15,
   "metadata": {},
   "outputs": [],
   "source": [
    "# FINAL"
   ]
  },
  {
   "cell_type": "code",
   "execution_count": 45,
   "metadata": {},
   "outputs": [],
   "source": [
    "#early stoping\n",
    "earldropping = EarlyStopping(monitor='val_loss', patience=3, restore_best_weights=True)"
   ]
  },
  {
   "cell_type": "code",
   "execution_count": 46,
   "metadata": {},
   "outputs": [
    {
     "name": "stdout",
     "output_type": "stream",
     "text": [
      "Epoch 1/25\n",
      "161/161 [==============================] - 2s 7ms/step - loss: 0.8881 - accuracy: 0.5561 - val_loss: 0.8648 - val_accuracy: 0.5637\n",
      "Epoch 2/25\n",
      "161/161 [==============================] - 1s 5ms/step - loss: 0.8535 - accuracy: 0.5755 - val_loss: 0.8351 - val_accuracy: 0.5699\n",
      "Epoch 3/25\n",
      "161/161 [==============================] - 1s 5ms/step - loss: 0.8186 - accuracy: 0.6120 - val_loss: 0.8924 - val_accuracy: 0.5621\n",
      "Epoch 4/25\n",
      "161/161 [==============================] - 1s 5ms/step - loss: 0.7984 - accuracy: 0.6231 - val_loss: 0.8582 - val_accuracy: 0.5870\n",
      "Epoch 5/25\n",
      "161/161 [==============================] - 1s 5ms/step - loss: 0.7585 - accuracy: 0.6522 - val_loss: 0.8854 - val_accuracy: 0.5606\n"
     ]
    }
   ],
   "source": [
    "rnn_model = Sequential([Embedding(vocab_length, 100, weights=[embedding_matrix],input_length=max_length, trainable=False),\n",
    "                        SimpleRNN(128, return_sequences=False),Dense(3, activation='softmax')])\n",
    "\n",
    "rnn_model.compile(loss='sparse_categorical_crossentropy',optimizer='adam',metrics=['accuracy'])\n",
    "\n",
    "history_rnn = rnn_model.fit(x_train_rnn, y_train,epochs=25, batch_size=32,validation_split=0.2,callbacks=[earldropping])"
   ]
  },
  {
   "cell_type": "code",
   "execution_count": 47,
   "metadata": {},
   "outputs": [
    {
     "name": "stdout",
     "output_type": "stream",
     "text": [
      "51/51 [==============================] - 0s 2ms/step\n"
     ]
    }
   ],
   "source": [
    "# Make predictions using the rnn model\n",
    "ans = rnn_model.predict(X_test_pad)\n",
    "\n",
    "# Convert predictions to class labels\n",
    "# Since it's a multi-class classification, we use argmax to get the class with the highest probability\n",
    "y_pred = np.argmax(ans, axis=1)"
   ]
  },
  {
   "cell_type": "code",
   "execution_count": 49,
   "metadata": {},
   "outputs": [
    {
     "name": "stdout",
     "output_type": "stream",
     "text": [
      "51/51 [==============================] - 0s 3ms/step - loss: 0.8507 - accuracy: 0.5764\n",
      "Test Loss: 0.8507, Test Accuracy: 0.5764\n"
     ]
    }
   ],
   "source": [
    "# evaluating test data\n",
    "loss, acc =rnn_model.evaluate(x_test_rnn, y_test)\n",
    "print(f\"Test Loss: {loss:.4f}, Test Accuracy: {acc:.4f}\")"
   ]
  },
  {
   "cell_type": "markdown",
   "metadata": {},
   "source": [
    "The model is predicting correctly about 57.6% of the time on a simple rnn model.\n",
    "the 57.6% accuracy shows that the model has learned some structure, but not enough to reliably distinguish classes.\n",
    "\n",
    "There’s no overfitting, both training and test performance are similarly low. This means the issue isn’t generalization, it’s underfitting.\n",
    "\n",
    "85% loss shows that the model is not confident in its predictions"
   ]
  },
  {
   "cell_type": "code",
   "execution_count": 51,
   "metadata": {},
   "outputs": [
    {
     "name": "stdout",
     "output_type": "stream",
     "text": [
      "Confusion matrix\n",
      "[[  0  40  72]\n",
      " [  0 111 464]\n",
      " [  0 106 817]]\n",
      "\n"
     ]
    },
    {
     "data": {
      "image/png": "[encoded data removed]",
      "text/plain": [
       "<Figure size 640x480 with 2 Axes>"
      ]
     },
     "metadata": {},
     "output_type": "display_data"
    }
   ],
   "source": [
    "print(f\"Confusion matrix\\n{confusion_matrix(y_test, y_pred)}\\n\")\n",
    "                                    \n",
    "con=confusion_matrix(y_test, y_pred, normalize=\"true\")\n",
    "sns.heatmap(con, annot=True, fmt=\".2f\");"
   ]
  },
  {
   "cell_type": "markdown",
   "metadata": {},
   "source": [
    "The model completely fails to identify class 0.\n",
    "Only 19% correctly predicted as class 1.\n",
    "\n",
    "81% misclassified as class 2.\n",
    "Model struggles to distinguish class 1, mostly confusing it with class 2.\n",
    "\n",
    "89% correctly predicted as class 2.\n",
    "A small portion (11%) misclassified as class 1.\n",
    "Model performs very well for class 2\n",
    "\n",
    "The confusion matrix shows that the model overwhelmingly predicts class 2, \n",
    "achieving high accuracy (89%) for this class but performing poorly on classes 0 and 1. \n",
    "Class 0 is never correctly identified, and 81% of class 1 samples are misclassified as class 2. \n",
    "This indicates a strong bias toward the majority class, likely due to dataset imbalance. \n",
    "To improve performance, the model would benefit from applying class weighting, oversampling the minority classes, or using a more expressive network such as an LSTM or GRU to better capture class distinctions."
   ]
  },
  {
   "cell_type": "code",
   "execution_count": 53,
   "metadata": {},
   "outputs": [
    {
     "name": "stdout",
     "output_type": "stream",
     "text": [
      "Epoch 1/25\n",
      "278/278 [==============================] - 2s 6ms/step - loss: 0.2959 - accuracy: 0.8733 - val_loss: 0.2896 - val_accuracy: 0.8674\n",
      "Epoch 2/25\n",
      "278/278 [==============================] - 1s 5ms/step - loss: 0.2651 - accuracy: 0.8917 - val_loss: 0.4203 - val_accuracy: 0.7988\n",
      "Epoch 3/25\n",
      "278/278 [==============================] - 1s 5ms/step - loss: 0.2786 - accuracy: 0.8844 - val_loss: 0.2674 - val_accuracy: 0.8791\n",
      "Epoch 4/25\n",
      "278/278 [==============================] - 1s 5ms/step - loss: 0.2392 - accuracy: 0.9014 - val_loss: 0.2661 - val_accuracy: 0.8868\n",
      "Epoch 5/25\n",
      "278/278 [==============================] - 1s 5ms/step - loss: 0.3341 - accuracy: 0.8685 - val_loss: 0.3327 - val_accuracy: 0.8385\n",
      "Epoch 6/25\n",
      "278/278 [==============================] - 1s 5ms/step - loss: 0.2463 - accuracy: 0.8962 - val_loss: 0.2547 - val_accuracy: 0.8945\n",
      "Epoch 7/25\n",
      "278/278 [==============================] - 1s 5ms/step - loss: 0.2007 - accuracy: 0.9204 - val_loss: 0.1432 - val_accuracy: 0.9454\n",
      "Epoch 8/25\n",
      "278/278 [==============================] - 1s 5ms/step - loss: 0.2069 - accuracy: 0.9157 - val_loss: 0.1878 - val_accuracy: 0.9301\n",
      "Epoch 9/25\n",
      "278/278 [==============================] - 1s 5ms/step - loss: 0.1625 - accuracy: 0.9400 - val_loss: 0.1507 - val_accuracy: 0.9387\n",
      "Epoch 10/25\n",
      "278/278 [==============================] - 1s 5ms/step - loss: 0.2388 - accuracy: 0.9024 - val_loss: 0.1726 - val_accuracy: 0.9314\n",
      "51/51 [==============================] - 0s 2ms/step\n",
      "202/202 [==============================] - 0s 2ms/step\n",
      "\n",
      "Test Accuracy score 0.5273291925465838\n",
      "Train Accuracy score 0.9260869565217391\n",
      "Confusion matrix\n",
      "[[ 18  53  41]\n",
      " [ 29 280 266]\n",
      " [ 56 316 551]]\n",
      "\n"
     ]
    },
    {
     "data": {
      "image/png": "[encoded data removed]",
      "text/plain": [
       "<Figure size 640x480 with 2 Axes>"
      ]
     },
     "metadata": {},
     "output_type": "display_data"
    }
   ],
   "source": [
    "# correcting class imbalance\n",
    "# Compile the model\n",
    "rnn_model.compile(loss='sparse_categorical_crossentropy', optimizer='adam', metrics=['accuracy'])\n",
    "\n",
    "# Fit the model using the resampled data\n",
    "history_rnn = rnn_model.fit(\n",
    "    x_train_rnn_resampled, y_train_resampled,\n",
    "    epochs=25,\n",
    "    batch_size=32,\n",
    "    validation_split=0.2,\n",
    "    callbacks=[earldropping])\n",
    "\n",
    "# Make predictions using the rnn_model\n",
    "ans = rnn_model.predict(X_test_pad)\n",
    "ans_train = rnn_model.predict(X_train_pad)\n",
    "\n",
    "# Convert predictions to class labels\n",
    "y_pred = np.argmax(ans, axis=1)\n",
    "y_pred_train = np.argmax(ans_train, axis=1)\n",
    "\n",
    "print('\\nTest Accuracy score', accuracy_score(y_test, y_pred))\n",
    "print('Train Accuracy score', accuracy_score(y_train, y_pred_train))\n",
    "\n",
    "print(f\"Confusion matrix\\n{confusion_matrix(y_test, y_pred)}\\n\")\n",
    "                                    \n",
    "con=confusion_matrix(y_test, y_pred, normalize=\"true\")\n",
    "sns.heatmap(con, annot=True, fmt=\".2f\");"
   ]
  },
  {
   "cell_type": "markdown",
   "metadata": {},
   "source": [
    "After correcting class imbalance on simple rnn model, The training accuracy (92.6%) becomes much higher than the test accuracy (52.7%).\n",
    "\n",
    "This large gap indicates overfitting, the model learned the training data patterns very well but failed to generalize to unseen test data.\n",
    "\n",
    "It may be memorizing training examples instead of capturing general relationships."
   ]
  },
  {
   "cell_type": "markdown",
   "metadata": {},
   "source": [
    "After addressing class imbalance, the model shows improved recognition of minority classes, particularly class 1, and reduced bias toward the dominant class 2. Although the overall test accuracy of (52%) remains moderate, the distribution of predictions is now more balanced, indicating healthier model behavior. This trade-off slightly lower accuracy but fairer class representation, reflects a positive outcome of class rebalancing. Further improvements could come from tuning the class weights, enhancing feature representations, or switching to a more expressive architecture such as an LSTM or GRU."
   ]
  },
  {
   "cell_type": "markdown",
   "metadata": {},
   "source": [
    "### LSTM"
   ]
  },
  {
   "cell_type": "code",
   "execution_count": 54,
   "metadata": {},
   "outputs": [
    {
     "name": "stdout",
     "output_type": "stream",
     "text": [
      "Epoch 1/25\n",
      "161/161 [==============================] - 3s 13ms/step - loss: 0.8634 - accuracy: 0.5753 - val_loss: 0.8255 - val_accuracy: 0.5846\n",
      "Epoch 2/25\n",
      "161/161 [==============================] - 2s 10ms/step - loss: 0.8091 - accuracy: 0.6180 - val_loss: 0.7977 - val_accuracy: 0.6149\n",
      "Epoch 3/25\n",
      "161/161 [==============================] - 2s 10ms/step - loss: 0.7752 - accuracy: 0.6386 - val_loss: 0.7781 - val_accuracy: 0.6273\n",
      "Epoch 4/25\n",
      "161/161 [==============================] - 2s 10ms/step - loss: 0.7452 - accuracy: 0.6640 - val_loss: 0.8134 - val_accuracy: 0.6002\n",
      "Epoch 5/25\n",
      "161/161 [==============================] - 2s 11ms/step - loss: 0.7140 - accuracy: 0.6747 - val_loss: 0.7500 - val_accuracy: 0.6592\n",
      "Epoch 6/25\n",
      "161/161 [==============================] - 2s 11ms/step - loss: 0.6884 - accuracy: 0.6887 - val_loss: 0.7548 - val_accuracy: 0.6599\n",
      "Epoch 7/25\n",
      "161/161 [==============================] - 2s 11ms/step - loss: 0.6616 - accuracy: 0.6993 - val_loss: 0.7587 - val_accuracy: 0.6530\n",
      "Epoch 8/25\n",
      "161/161 [==============================] - 2s 11ms/step - loss: 0.6154 - accuracy: 0.7288 - val_loss: 0.7836 - val_accuracy: 0.6405\n"
     ]
    }
   ],
   "source": [
    "lstm_model = Sequential([Embedding(vocab_length, 100, weights = [embedding_matrix], input_length=max_length, trainable= False),\n",
    "                         LSTM(128, return_sequences=False),\n",
    "                         Dense(3, activation='softmax')])\n",
    "\n",
    "lstm_model.compile(loss='sparse_categorical_crossentropy',\n",
    "                   optimizer='adam',\n",
    "                   metrics=['accuracy'])\n",
    "\n",
    "history_lstm = lstm_model.fit(x_train_rnn, y_train,epochs=25,batch_size=32,validation_split=0.2,callbacks=[earldropping])"
   ]
  },
  {
   "cell_type": "code",
   "execution_count": 55,
   "metadata": {},
   "outputs": [
    {
     "name": "stdout",
     "output_type": "stream",
     "text": [
      "51/51 [==============================] - 1s 5ms/step\n"
     ]
    }
   ],
   "source": [
    "# Make predictions using the LSTM model\n",
    "ans = lstm_model.predict(X_test_pad)\n",
    "\n",
    "# Convert predictions to class labels\n",
    "# Since it's a multi-class classification, we use argmax to get the class with the highest probability\n",
    "y_pred = np.argmax(ans, axis=1)"
   ]
  },
  {
   "cell_type": "code",
   "execution_count": 58,
   "metadata": {},
   "outputs": [
    {
     "name": "stdout",
     "output_type": "stream",
     "text": [
      "51/51 [==============================] - 0s 5ms/step\n",
      "202/202 [==============================] - 1s 5ms/step\n",
      "\n",
      "Test Accuracy score 0.6285714285714286\n",
      "Train Accuracy score 0.69472049689441\n",
      "Confusion matrix\n",
      "[[ 16  30  66]\n",
      " [  4 288 283]\n",
      " [ 14 201 708]]\n",
      "\n"
     ]
    },
    {
     "data": {
      "image/png": "[encoded data removed]",
      "text/plain": [
       "<Figure size 640x480 with 2 Axes>"
      ]
     },
     "metadata": {},
     "output_type": "display_data"
    }
   ],
   "source": [
    "# Make predictions using the rnn_model\n",
    "ans = lstm_model.predict(X_test_pad)\n",
    "ans_train = lstm_model.predict(X_train_pad)\n",
    "\n",
    "# Convert predictions to class labels\n",
    "y_pred = np.argmax(ans, axis=1)\n",
    "y_pred_train = np.argmax(ans_train, axis=1)\n",
    "\n",
    "print('\\nTest Accuracy score', accuracy_score(y_test, y_pred))\n",
    "print('Train Accuracy score', accuracy_score(y_train, y_pred_train))\n",
    "\n",
    "print(f\"Confusion matrix\\n{confusion_matrix(y_test, y_pred)}\\n\")\n",
    "                                    \n",
    "con=confusion_matrix(y_test, y_pred, normalize=\"true\")\n",
    "sns.heatmap(con, annot=True, fmt=\".2f\");"
   ]
  },
  {
   "cell_type": "markdown",
   "metadata": {},
   "source": [
    "The LSTM model achieved a training accuracy of 69.5% and a test accuracy of 62.9%, showing a relatively small gap between training and testing performance. This indicates that the model generalizes well and is less overfitted compared to earlier RNN models, which exhibited a larger accuracy gap\n",
    "\n",
    "\n",
    "The confusion matrix shows that the model performs best when predicting positive sentiments (77%), but struggles to accurately classify negative and neutral tweets. Most negative tweets are incorrectly labeled as positive (59%), and nearly half of the neutral ones are also misclassified as positive (49%). This indicates a bias toward the positive class, possibly due to class imbalance or overlapping language patterns between neutral and positive sentiments. The model needs further tuning such as rebalancing the dataset or enhancing feature representation to better distinguish between negative and neutral tones."
   ]
  },
  {
   "cell_type": "code",
   "execution_count": 59,
   "metadata": {},
   "outputs": [
    {
     "name": "stdout",
     "output_type": "stream",
     "text": [
      "Epoch 1/25\n",
      "278/278 [==============================] - 6s 16ms/step - loss: 0.7282 - accuracy: 0.6799 - val_loss: 0.6959 - val_accuracy: 0.6689\n",
      "Epoch 2/25\n",
      "278/278 [==============================] - 5s 17ms/step - loss: 0.6046 - accuracy: 0.7382 - val_loss: 0.6239 - val_accuracy: 0.6797\n",
      "Epoch 3/25\n",
      "278/278 [==============================] - 5s 18ms/step - loss: 0.5678 - accuracy: 0.7533 - val_loss: 0.4677 - val_accuracy: 0.7866\n",
      "Epoch 4/25\n",
      "278/278 [==============================] - 5s 19ms/step - loss: 0.4734 - accuracy: 0.7932 - val_loss: 0.5947 - val_accuracy: 0.7140\n",
      "Epoch 5/25\n",
      "278/278 [==============================] - 5s 17ms/step - loss: 0.4288 - accuracy: 0.8123 - val_loss: 0.7886 - val_accuracy: 0.5521\n",
      "Epoch 6/25\n",
      "278/278 [==============================] - 5s 18ms/step - loss: 0.4159 - accuracy: 0.8148 - val_loss: 0.4005 - val_accuracy: 0.8033\n",
      "Epoch 7/25\n",
      "278/278 [==============================] - 5s 18ms/step - loss: 0.3827 - accuracy: 0.8270 - val_loss: 0.3448 - val_accuracy: 0.8502\n",
      "Epoch 8/25\n",
      "278/278 [==============================] - 5s 18ms/step - loss: 0.3511 - accuracy: 0.8468 - val_loss: 0.2551 - val_accuracy: 0.9057\n",
      "Epoch 9/25\n",
      "278/278 [==============================] - 5s 18ms/step - loss: 0.3262 - accuracy: 0.8538 - val_loss: 0.4812 - val_accuracy: 0.7515\n",
      "Epoch 10/25\n",
      "278/278 [==============================] - 5s 18ms/step - loss: 0.3159 - accuracy: 0.8633 - val_loss: 0.3109 - val_accuracy: 0.8448\n",
      "Epoch 11/25\n",
      "278/278 [==============================] - 5s 19ms/step - loss: 0.3054 - accuracy: 0.8703 - val_loss: 0.5620 - val_accuracy: 0.7402\n",
      "51/51 [==============================] - 1s 7ms/step\n",
      "202/202 [==============================] - 1s 7ms/step\n",
      "\n",
      "Test Accuracy score 0.5968944099378882\n",
      "Train Accuracy score 0.7913043478260869\n",
      "Confusion matrix\n",
      "[[ 46  30  36]\n",
      " [ 30 384 161]\n",
      " [ 61 331 531]]\n",
      "\n"
     ]
    },
    {
     "data": {
      "image/png": "[encoded data removed]",
      "text/plain": [
       "<Figure size 640x480 with 2 Axes>"
      ]
     },
     "metadata": {},
     "output_type": "display_data"
    }
   ],
   "source": [
    "# correcting class imbalance\n",
    "# Compile the model\n",
    "lstm_model.compile(loss='sparse_categorical_crossentropy', optimizer='adam', metrics=['accuracy'])\n",
    "\n",
    "# Fit the model using the resampled data\n",
    "history_rnn = lstm_model.fit(\n",
    "    x_train_rnn_resampled, y_train_resampled,\n",
    "    epochs=25,\n",
    "    batch_size=32,\n",
    "    validation_split=0.2,\n",
    "    callbacks=[earldropping])\n",
    "\n",
    "# Make predictions using the rnn_model\n",
    "ans = lstm_model.predict(X_test_pad)\n",
    "ans_train = lstm_model.predict(X_train_pad)\n",
    "\n",
    "# Convert predictions to class labels\n",
    "y_pred = np.argmax(ans, axis=1)\n",
    "y_pred_train = np.argmax(ans_train, axis=1)\n",
    "\n",
    "print('\\nTest Accuracy score', accuracy_score(y_test, y_pred))\n",
    "print('Train Accuracy score', accuracy_score(y_train, y_pred_train))\n",
    "\n",
    "print(f\"Confusion matrix\\n{confusion_matrix(y_test, y_pred)}\\n\")\n",
    "                                    \n",
    "con=confusion_matrix(y_test, y_pred, normalize=\"true\")\n",
    "sns.heatmap(con, annot=True, fmt=\".2f\");"
   ]
  },
  {
   "cell_type": "markdown",
   "metadata": {},
   "source": [
    "After addressing class imbalance, the LSTM model achieved a training accuracy of 79.1% and a test accuracy of 59.7%, indicating some degree of overfitting. \n",
    "\n",
    "Although rebalancing improved prediction consistency across classes, the model still leans toward predicting positive sentiment, suggesting lingering class dominance or overlapping linguistic patterns between neutral and positive text. Further tuning such as dropout regularization, deeper embeddings, or contextual embeddings (e.g. BERT) could help narrow the gap between training and test performance.\n",
    "\n",
    "The normalized confusion matrix shows that the LSTM model’s classification performance has become more balanced after correcting for class imbalance. The model now correctly predicts 41% of negative, 67% of neutral, and 58% of positive tweets. Misclassifications have reduced, especially for the neutral class, which now shows the highest accuracy and less confusion with positive tweets."
   ]
  },
  {
   "cell_type": "code",
   "execution_count": null,
   "metadata": {},
   "outputs": [],
   "source": []
  }
 ],
 "metadata": {
  "kernelspec": {
   "display_name": "TensorFlow Env",
   "language": "python",
   "name": "tf-env"
  },
  "language_info": {
   "codemirror_mode": {
    "name": "ipython",
    "version": 3
   },
   "file_extension": ".py",
   "mimetype": "text/x-python",
   "name": "python",
   "nbconvert_exporter": "python",
   "pygments_lexer": "ipython3",
   "version": "3.10.18"
  },
  "varInspector": {
   "cols": {
    "lenName": 16,
    "lenType": 16,
    "lenVar": 40
   },
   "kernels_config": {
    "python": {
     "delete_cmd_postfix": "",
     "delete_cmd_prefix": "del ",
     "library": "var_list.py",
     "varRefreshCmd": "print(var_dic_list())"
    },
    "r": {
     "delete_cmd_postfix": ") ",
     "delete_cmd_prefix": "rm(",
     "library": "var_list.r",
     "varRefreshCmd": "cat(var_dic_list()) "
    }
   },
   "types_to_exclude": [
    "module",
    "function",
    "builtin_function_or_method",
    "instance",
    "_Feature"
   ],
   "window_display": false
  }
 },
 "nbformat": 4,
 "nbformat_minor": 4
}
